{
 "cells": [
  {
   "cell_type": "code",
   "execution_count": 1,
   "id": "25f617ce",
   "metadata": {},
   "outputs": [],
   "source": [
    "import torch\n"
   ]
  },
  {
   "cell_type": "code",
   "execution_count": 44,
   "id": "6b4c4fff",
   "metadata": {},
   "outputs": [],
   "source": [
    "candidate_loss = torch.load('candidate_loss.pt', map_location=torch.device('cpu'))"
   ]
  },
  {
   "cell_type": "code",
   "execution_count": 6,
   "id": "0391ad02",
   "metadata": {},
   "outputs": [
    {
     "data": {
      "text/plain": [
       "torch.Size([783, 10])"
      ]
     },
     "execution_count": 6,
     "metadata": {},
     "output_type": "execute_result"
    }
   ],
   "source": [
    "errors.size()"
   ]
  },
  {
   "cell_type": "code",
   "execution_count": 39,
   "id": "213ddf30",
   "metadata": {},
   "outputs": [
    {
     "data": {
      "text/plain": [
       "tensor(0.2089)"
      ]
     },
     "execution_count": 39,
     "metadata": {},
     "output_type": "execute_result"
    }
   ],
   "source": [
    "errors[1,:].std()"
   ]
  },
  {
   "cell_type": "code",
   "execution_count": 40,
   "id": "6f02380a",
   "metadata": {},
   "outputs": [
    {
     "data": {
      "text/plain": [
       "tensor(750)"
      ]
     },
     "execution_count": 40,
     "metadata": {},
     "output_type": "execute_result"
    }
   ],
   "source": [
    "torch.argmax(errors.std(dim=1))"
   ]
  },
  {
   "cell_type": "code",
   "execution_count": 42,
   "id": "faf6c650",
   "metadata": {},
   "outputs": [
    {
     "data": {
      "text/plain": [
       "tensor(0.2996)"
      ]
     },
     "execution_count": 42,
     "metadata": {},
     "output_type": "execute_result"
    }
   ],
   "source": [
    "errors[750,:].std()"
   ]
  },
  {
   "cell_type": "code",
   "execution_count": 45,
   "id": "9cc13b2c",
   "metadata": {},
   "outputs": [
    {
     "data": {
      "text/plain": [
       "tensor(750)"
      ]
     },
     "execution_count": 45,
     "metadata": {},
     "output_type": "execute_result"
    }
   ],
   "source": [
    "torch.argmax(candidate_loss.std(dim=1))"
   ]
  },
  {
   "cell_type": "code",
   "execution_count": 46,
   "id": "7080a46c",
   "metadata": {},
   "outputs": [],
   "source": [
    "mask_candidates = torch.load('mask_candidates.pt', map_location=torch.device('cpu'))"
   ]
  },
  {
   "cell_type": "code",
   "execution_count": 48,
   "id": "61d6aff1",
   "metadata": {},
   "outputs": [
    {
     "data": {
      "text/plain": [
       "tensor([23, 26])"
      ]
     },
     "execution_count": 48,
     "metadata": {},
     "output_type": "execute_result"
    }
   ],
   "source": [
    "mask_candidates[torch.argmax(candidate_loss.std(dim=1))]"
   ]
  },
  {
   "cell_type": "code",
   "execution_count": 54,
   "id": "0be67d77",
   "metadata": {},
   "outputs": [],
   "source": [
    "mask = torch.zeros((1, 2))"
   ]
  },
  {
   "cell_type": "code",
   "execution_count": 56,
   "id": "c2d0071e",
   "metadata": {},
   "outputs": [],
   "source": [
    "mask = torch.cat([mask, torch.unsqueeze(mask_candidates[torch.argmax(candidate_loss.std(dim=1))], 0)], dim=0)"
   ]
  },
  {
   "cell_type": "code",
   "execution_count": 57,
   "id": "0150e661",
   "metadata": {},
   "outputs": [
    {
     "data": {
      "text/plain": [
       "2"
      ]
     },
     "execution_count": 57,
     "metadata": {},
     "output_type": "execute_result"
    }
   ],
   "source": [
    "len(mask)"
   ]
  },
  {
   "cell_type": "code",
   "execution_count": 58,
   "id": "9de15a46",
   "metadata": {},
   "outputs": [],
   "source": [
    "device = torch.device('cpu')"
   ]
  },
  {
   "cell_type": "code",
   "execution_count": 59,
   "id": "bd67d413",
   "metadata": {},
   "outputs": [
    {
     "data": {
      "text/plain": [
       "device(type='cpu')"
      ]
     },
     "execution_count": 59,
     "metadata": {},
     "output_type": "execute_result"
    }
   ],
   "source": [
    "device"
   ]
  },
  {
   "cell_type": "code",
   "execution_count": 62,
   "id": "da995650",
   "metadata": {},
   "outputs": [
    {
     "data": {
      "text/plain": [
       "False"
      ]
     },
     "execution_count": 62,
     "metadata": {},
     "output_type": "execute_result"
    }
   ],
   "source": [
    "torch.cuda.is_available()"
   ]
  },
  {
   "cell_type": "code",
   "execution_count": null,
   "id": "ea017c57",
   "metadata": {},
   "outputs": [],
   "source": []
  }
 ],
 "metadata": {
  "kernelspec": {
   "display_name": "Python 3 (ipykernel)",
   "language": "python",
   "name": "python3"
  },
  "language_info": {
   "codemirror_mode": {
    "name": "ipython",
    "version": 3
   },
   "file_extension": ".py",
   "mimetype": "text/x-python",
   "name": "python",
   "nbconvert_exporter": "python",
   "pygments_lexer": "ipython3",
   "version": "3.9.12"
  }
 },
 "nbformat": 4,
 "nbformat_minor": 5
}
